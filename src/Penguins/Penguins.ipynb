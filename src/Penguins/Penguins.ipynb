{
 "cells": [
  {
   "cell_type": "markdown",
   "id": "1b695adc-7f87-42e1-b3f0-11891710d1b8",
   "metadata": {},
   "source": [
    "# Cours Machine Learning appliqué"
   ]
  },
  {
   "cell_type": "markdown",
   "id": "14ffd120-e321-4c22-933b-f7049fc32539",
   "metadata": {},
   "source": [
    "## Importations de données"
   ]
  },
  {
   "cell_type": "code",
   "execution_count": 78,
   "id": "a0b75f27-7055-45cf-a447-13ffb7f85b8d",
   "metadata": {},
   "outputs": [],
   "source": [
    "import pandas as pd\n",
    "import numpy as np"
   ]
  },
  {
   "cell_type": "code",
   "execution_count": 34,
   "id": "9ebb20f1-3e33-4d35-b209-ede90ed0406e",
   "metadata": {},
   "outputs": [
    {
     "data": {
      "text/html": [
       "<div>\n",
       "<style scoped>\n",
       "    .dataframe tbody tr th:only-of-type {\n",
       "        vertical-align: middle;\n",
       "    }\n",
       "\n",
       "    .dataframe tbody tr th {\n",
       "        vertical-align: top;\n",
       "    }\n",
       "\n",
       "    .dataframe thead th {\n",
       "        text-align: right;\n",
       "    }\n",
       "</style>\n",
       "<table border=\"1\" class=\"dataframe\">\n",
       "  <thead>\n",
       "    <tr style=\"text-align: right;\">\n",
       "      <th></th>\n",
       "      <th>Party</th>\n",
       "      <th>Start date</th>\n",
       "      <th>End date</th>\n",
       "      <th>Free items</th>\n",
       "      <th>Notes</th>\n",
       "      <th>Characters</th>\n",
       "      <th>Locations and the Special/Added Party Rooms</th>\n",
       "      <th>Year</th>\n",
       "    </tr>\n",
       "  </thead>\n",
       "  <tbody>\n",
       "    <tr>\n",
       "      <th>0</th>\n",
       "      <td>Beta Test Party</td>\n",
       "      <td>September 21, 3:00 PM (GMT and PST)</td>\n",
       "      <td>5:00 PM (GMT and PST)</td>\n",
       "      <td>Party Hat</td>\n",
       "      <td>First ever party in Club Penguin.</td>\n",
       "      <td>NaN</td>\n",
       "      <td>NaN</td>\n",
       "      <td>2005</td>\n",
       "    </tr>\n",
       "    <tr>\n",
       "      <th>1</th>\n",
       "      <td>Halloween Party 2005</td>\n",
       "      <td>Oct-27</td>\n",
       "      <td>Oct-31</td>\n",
       "      <td>NaN</td>\n",
       "      <td>First ever Halloween party in Club Penguin. Fi...</td>\n",
       "      <td>NaN</td>\n",
       "      <td>NaN</td>\n",
       "      <td>2005</td>\n",
       "    </tr>\n",
       "    <tr>\n",
       "      <th>2</th>\n",
       "      <td>Puffle Discovery</td>\n",
       "      <td>Nov-15</td>\n",
       "      <td>Dec-04</td>\n",
       "      <td>NaN</td>\n",
       "      <td>First appearance of Puffles.</td>\n",
       "      <td>NaN</td>\n",
       "      <td>NaN</td>\n",
       "      <td>2005</td>\n",
       "    </tr>\n",
       "    <tr>\n",
       "      <th>3</th>\n",
       "      <td>Server Testing 2005</td>\n",
       "      <td>Dec-05</td>\n",
       "      <td>February 13, 2006</td>\n",
       "      <td>Black Toque, Pink Toque, Blue Sunglasses, Red ...</td>\n",
       "      <td>NaN</td>\n",
       "      <td>NaN</td>\n",
       "      <td>NaN</td>\n",
       "      <td>2005</td>\n",
       "    </tr>\n",
       "    <tr>\n",
       "      <th>4</th>\n",
       "      <td>Christmas Party 2005</td>\n",
       "      <td>Dec-22</td>\n",
       "      <td>Dec-25</td>\n",
       "      <td>Santa Hat, Christmas Scarf</td>\n",
       "      <td>First ever Christmas party in Club Penguin.</td>\n",
       "      <td>NaN</td>\n",
       "      <td>NaN</td>\n",
       "      <td>2005</td>\n",
       "    </tr>\n",
       "    <tr>\n",
       "      <th>...</th>\n",
       "      <td>...</td>\n",
       "      <td>...</td>\n",
       "      <td>...</td>\n",
       "      <td>...</td>\n",
       "      <td>...</td>\n",
       "      <td>...</td>\n",
       "      <td>...</td>\n",
       "      <td>...</td>\n",
       "    </tr>\n",
       "    <tr>\n",
       "      <th>208</th>\n",
       "      <td>Music Jam 2016</td>\n",
       "      <td>Nov-02</td>\n",
       "      <td>Nov-30</td>\n",
       "      <td>To see the list of free items, see the main ar...</td>\n",
       "      <td>Penguin Band, Cadence</td>\n",
       "      <td>Club Penguin Island, Back Stage, Night Club Ro...</td>\n",
       "      <td>Final Music Jam in Club Penguin.</td>\n",
       "      <td>2016</td>\n",
       "    </tr>\n",
       "    <tr>\n",
       "      <th>209</th>\n",
       "      <td>Holiday Party 2016</td>\n",
       "      <td>Dec-01</td>\n",
       "      <td>January 4, 2017</td>\n",
       "      <td>To see the list of free items, see the main ar...</td>\n",
       "      <td>Rockhopper</td>\n",
       "      <td>Club Penguin Island, Santa's Sled</td>\n",
       "      <td>The twelfth and final Holiday Party in Club Pe...</td>\n",
       "      <td>2016</td>\n",
       "    </tr>\n",
       "    <tr>\n",
       "      <th>210</th>\n",
       "      <td>Club Penguin Island Party</td>\n",
       "      <td>Jan-04</td>\n",
       "      <td>Jan-31</td>\n",
       "      <td>To see the list of free items, see the main ar...</td>\n",
       "      <td>Aunt Arctic</td>\n",
       "      <td>Club Penguin Island</td>\n",
       "      <td>NaN</td>\n",
       "      <td>2017</td>\n",
       "    </tr>\n",
       "    <tr>\n",
       "      <th>211</th>\n",
       "      <td>Club Penguin Island Party</td>\n",
       "      <td>NaN</td>\n",
       "      <td>NaN</td>\n",
       "      <td>NaN</td>\n",
       "      <td>NaN</td>\n",
       "      <td>NaN</td>\n",
       "      <td>NaN</td>\n",
       "      <td>2017</td>\n",
       "    </tr>\n",
       "    <tr>\n",
       "      <th>212</th>\n",
       "      <td>Waddle On Party</td>\n",
       "      <td>Jan-31</td>\n",
       "      <td>Mar-30</td>\n",
       "      <td>To see the list of free items, see the main ar...</td>\n",
       "      <td>Aunt Arctic, Cadence, Dot, Franky, Gary, Herbe...</td>\n",
       "      <td>Club Penguin Island</td>\n",
       "      <td>The last party to be held in Club Penguin.</td>\n",
       "      <td>2017</td>\n",
       "    </tr>\n",
       "  </tbody>\n",
       "</table>\n",
       "<p>213 rows × 8 columns</p>\n",
       "</div>"
      ],
      "text/plain": [
       "                         Party                           Start date  \\\n",
       "0              Beta Test Party  September 21, 3:00 PM (GMT and PST)   \n",
       "1         Halloween Party 2005                               Oct-27   \n",
       "2             Puffle Discovery                               Nov-15   \n",
       "3          Server Testing 2005                               Dec-05   \n",
       "4         Christmas Party 2005                               Dec-22   \n",
       "..                         ...                                  ...   \n",
       "208             Music Jam 2016                               Nov-02   \n",
       "209         Holiday Party 2016                               Dec-01   \n",
       "210  Club Penguin Island Party                               Jan-04   \n",
       "211  Club Penguin Island Party                                  NaN   \n",
       "212            Waddle On Party                               Jan-31   \n",
       "\n",
       "                  End date                                         Free items  \\\n",
       "0    5:00 PM (GMT and PST)                                          Party Hat   \n",
       "1                   Oct-31                                                NaN   \n",
       "2                   Dec-04                                                NaN   \n",
       "3        February 13, 2006  Black Toque, Pink Toque, Blue Sunglasses, Red ...   \n",
       "4                   Dec-25                         Santa Hat, Christmas Scarf   \n",
       "..                     ...                                                ...   \n",
       "208                 Nov-30  To see the list of free items, see the main ar...   \n",
       "209        January 4, 2017  To see the list of free items, see the main ar...   \n",
       "210                 Jan-31  To see the list of free items, see the main ar...   \n",
       "211                    NaN                                                NaN   \n",
       "212                 Mar-30  To see the list of free items, see the main ar...   \n",
       "\n",
       "                                                 Notes  \\\n",
       "0                    First ever party in Club Penguin.   \n",
       "1    First ever Halloween party in Club Penguin. Fi...   \n",
       "2                         First appearance of Puffles.   \n",
       "3                                                  NaN   \n",
       "4          First ever Christmas party in Club Penguin.   \n",
       "..                                                 ...   \n",
       "208                              Penguin Band, Cadence   \n",
       "209                                         Rockhopper   \n",
       "210                                        Aunt Arctic   \n",
       "211                                                NaN   \n",
       "212  Aunt Arctic, Cadence, Dot, Franky, Gary, Herbe...   \n",
       "\n",
       "                                            Characters  \\\n",
       "0                                                  NaN   \n",
       "1                                                  NaN   \n",
       "2                                                  NaN   \n",
       "3                                                  NaN   \n",
       "4                                                  NaN   \n",
       "..                                                 ...   \n",
       "208  Club Penguin Island, Back Stage, Night Club Ro...   \n",
       "209                  Club Penguin Island, Santa's Sled   \n",
       "210                                Club Penguin Island   \n",
       "211                                                NaN   \n",
       "212                                Club Penguin Island   \n",
       "\n",
       "           Locations and the Special/Added Party Rooms  Year  \n",
       "0                                                  NaN  2005  \n",
       "1                                                  NaN  2005  \n",
       "2                                                  NaN  2005  \n",
       "3                                                  NaN  2005  \n",
       "4                                                  NaN  2005  \n",
       "..                                                 ...   ...  \n",
       "208                   Final Music Jam in Club Penguin.  2016  \n",
       "209  The twelfth and final Holiday Party in Club Pe...  2016  \n",
       "210                                                NaN  2017  \n",
       "211                                                NaN  2017  \n",
       "212         The last party to be held in Club Penguin.  2017  \n",
       "\n",
       "[213 rows x 8 columns]"
      ]
     },
     "execution_count": 34,
     "metadata": {},
     "output_type": "execute_result"
    }
   ],
   "source": [
    "df = pd.read_csv(\"./data/csv/Club_Penguin_All_Parties_FINAL.csv\")\n",
    "df"
   ]
  },
  {
   "cell_type": "code",
   "execution_count": 35,
   "id": "6d24671c-5952-40c4-8214-c1dab1760e5e",
   "metadata": {},
   "outputs": [],
   "source": [
    "list_years = df[\"Year\"].unique()"
   ]
  },
  {
   "cell_type": "code",
   "execution_count": 41,
   "id": "b3d8ede1-3f8a-4e0c-a39c-a3d02e1012ed",
   "metadata": {},
   "outputs": [
    {
     "name": "stdout",
     "output_type": "stream",
     "text": [
      "[2005 2006 2007 2008 2009 2010 2011 2012 2013 2014 2015 2016 2017]\n"
     ]
    }
   ],
   "source": [
    "# Affichage de l'array numpy de la liste des années existantes dans la data \n",
    "print(list_years)"
   ]
  },
  {
   "cell_type": "code",
   "execution_count": 20,
   "id": "622807ee-5bd9-48f7-ab30-5f6d07df21a1",
   "metadata": {},
   "outputs": [
    {
     "name": "stdout",
     "output_type": "stream",
     "text": [
      "2005\n"
     ]
    }
   ],
   "source": [
    "# Affichage du premier élément de la liste\n",
    "print(list_years[0])"
   ]
  },
  {
   "cell_type": "code",
   "execution_count": 48,
   "id": "4d31f116-8fda-47e0-bacd-b42d1e08417a",
   "metadata": {},
   "outputs": [
    {
     "name": "stdout",
     "output_type": "stream",
     "text": [
      "[5, 18, 17, 18, 19, 17, 19, 18, 18, 20, 26, 15, 3]\n"
     ]
    }
   ],
   "source": [
    "list_events = []\n",
    "for year in list_years:\n",
    "    list_events.append(len(df.loc[df['Year'] == year]))\n",
    "\n",
    "print(list_events)"
   ]
  },
  {
   "cell_type": "code",
   "execution_count": 61,
   "id": "32dc0cc7-ef86-4529-8653-289b80061f03",
   "metadata": {},
   "outputs": [
    {
     "data": {
      "text/plain": [
       "\"Club Penguin Island,\\xa0Santa's Sled\""
      ]
     },
     "execution_count": 61,
     "metadata": {},
     "output_type": "execute_result"
    }
   ],
   "source": [
    "list_characters = df[\"Characters\"]\n",
    "list_characters[209]"
   ]
  },
  {
   "cell_type": "markdown",
   "id": "ea07607c-c614-4ef4-9d40-1c3f25424a64",
   "metadata": {},
   "source": [
    "## Graphiques de données réelles"
   ]
  },
  {
   "cell_type": "code",
   "execution_count": 46,
   "id": "d1113943-ebe9-4e17-84b7-6e6d50b51f53",
   "metadata": {},
   "outputs": [],
   "source": [
    "import matplotlib.pyplot as plt"
   ]
  },
  {
   "cell_type": "code",
   "execution_count": 53,
   "id": "d7dc8e28-688e-45af-9a63-5c4260ecfc80",
   "metadata": {},
   "outputs": [
    {
     "data": {
      "text/plain": [
       "<BarContainer object of 13 artists>"
      ]
     },
     "execution_count": 53,
     "metadata": {},
     "output_type": "execute_result"
    },
    {
     "data": {
      "image/png": "[encoded data removed]",
      "text/plain": [
       "<Figure size 640x480 with 1 Axes>"
      ]
     },
     "metadata": {},
     "output_type": "display_data"
    }
   ],
   "source": [
    "plt.bar(list_years, list_events)"
   ]
  },
  {
   "cell_type": "code",
   "execution_count": 64,
   "id": "7a6faa75-0acf-4f96-8826-039d22e057f0",
   "metadata": {},
   "outputs": [
    {
     "data": {
      "text/plain": [
       "<matplotlib.collections.PathCollection at 0x1d9e4bd4e10>"
      ]
     },
     "execution_count": 64,
     "metadata": {},
     "output_type": "execute_result"
    },
    {
     "data": {
      "image/png": "[encoded data removed]",
      "text/plain": [
       "<Figure size 640x480 with 1 Axes>"
      ]
     },
     "metadata": {},
     "output_type": "display_data"
    }
   ],
   "source": [
    "plt.scatter(list_years, list_events)"
   ]
  },
  {
   "cell_type": "markdown",
   "id": "41908bc2-350e-48a8-aa2e-c400ce12f051",
   "metadata": {},
   "source": [
    "## Prédictions"
   ]
  },
  {
   "cell_type": "markdown",
   "id": "c1846ec9-7709-4ff4-82f3-e5e8cfc6027d",
   "metadata": {},
   "source": [
    "### Imports des modules"
   ]
  },
  {
   "cell_type": "code",
   "execution_count": 66,
   "id": "149626ca-73f1-4cb8-9fb5-c67a5d5b597f",
   "metadata": {},
   "outputs": [],
   "source": [
    "from sklearn.linear_model import LinearRegression, Ree\n",
    "from sklearn.model_selection import train_test_split\n",
    "from sklearn.metrics import accuracy_score, classification_report, confusion_matrix"
   ]
  },
  {
   "cell_type": "code",
   "execution_count": 68,
   "id": "40cab439-2700-4fb0-912b-5c86b2ab9a8a",
   "metadata": {},
   "outputs": [
    {
     "data": {
      "text/plain": [
       "([5, 18, 17, 18, 19, 17, 19, 18, 18, 20, 26, 15, 3],\n",
       " array([2005, 2006, 2007, 2008, 2009, 2010, 2011, 2012, 2013, 2014, 2015,\n",
       "        2016, 2017]))"
      ]
     },
     "execution_count": 68,
     "metadata": {},
     "output_type": "execute_result"
    }
   ],
   "source": [
    "list_events, list_years"
   ]
  },
  {
   "cell_type": "code",
   "execution_count": 74,
   "id": "eea27e63-2db6-4942-996d-d4f09d400f70",
   "metadata": {},
   "outputs": [
    {
     "data": {
      "text/plain": [
       "array([2012, 2013, 2014, 2017, 2008, 2005, 2007, 2016, 2009, 2011])"
      ]
     },
     "execution_count": 74,
     "metadata": {},
     "output_type": "execute_result"
    }
   ],
   "source": [
    "x_train, x_test, y_train, y_test = train_test_split(list_years, list_events, test_size=0.2)\n",
    "x_train"
   ]
  },
  {
   "cell_type": "code",
   "execution_count": 102,
   "id": "61ab4d74-9b59-4a2d-9c95-15aec1ca955f",
   "metadata": {},
   "outputs": [
    {
     "data": {
      "text/plain": [
       "[<matplotlib.lines.Line2D at 0x1d9807f11d0>]"
      ]
     },
     "execution_count": 102,
     "metadata": {},
     "output_type": "execute_result"
    },
    {
     "data": {
      "image/png": "[encoded data removed]",
      "text/plain": [
       "<Figure size 640x480 with 1 Axes>"
      ]
     },
     "metadata": {},
     "output_type": "display_data"
    }
   ],
   "source": [
    "x_train, x_test, y_train, y_test = train_test_split(list_years, list_events, test_size=0.2)\n",
    "\n",
    "x = np.array(x_train).reshape(-1, 1)\n",
    "y = np.array(y_train).reshape(-1, 1)\n",
    "\n",
    "reg = LinearRegression().fit(x, y)\n",
    "\n",
    "ypred = reg.predict(np.array(x_test).reshape(-1, 1))\n",
    "\n",
    "plt.scatter(x_test, y_test)\n",
    "plt.plot(x_test, ypred)"
   ]
  },
  {
   "cell_type": "code",
   "execution_count": null,
   "id": "ace65be3-5986-4259-9fef-a92efd8e12ef",
   "metadata": {},
   "outputs": [],
   "source": []
  }
 ],
 "metadata": {
  "kernelspec": {
   "display_name": "Python 3 (ipykernel)",
   "language": "python",
   "name": "python3"
  },
  "language_info": {
   "codemirror_mode": {
    "name": "ipython",
    "version": 3
   },
   "file_extension": ".py",
   "mimetype": "text/x-python",
   "name": "python",
   "nbconvert_exporter": "python",
   "pygments_lexer": "ipython3",
   "version": "3.13.0"
  }
 },
 "nbformat": 4,
 "nbformat_minor": 5
}
