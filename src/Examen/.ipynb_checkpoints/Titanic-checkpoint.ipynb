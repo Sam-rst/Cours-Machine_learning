{
 "cells": [
  {
   "cell_type": "markdown",
   "metadata": {},
   "source": [
    "# Titanic"
   ]
  },
  {
   "cell_type": "markdown",
   "metadata": {},
   "source": [
    "## 1-Imports\n",
    "\n",
    "We will start by importing the libraries that we will use to analyze, process and model the data."
   ]
  },
  {
   "cell_type": "markdown",
   "metadata": {},
   "source": [
    "## 1-Imports\n",
    "\n",
    "## 2-Load Data\n",
    "\n",
    "## 3-Data Analysis\n",
    "\n",
    "## 4-Data Preparation\n",
    "\n",
    "## 5-Model\n",
    "\n",
    "## 6-Submission\n",
    "\n",
    "## 7-Conclusion\n",
    "\n",
    "## 8-References\n",
    "\n",
    "\n",
    "```\n",
    "\n",
    "## 2-Load Data\n",
    "\n",
    "We will load the training and test data into Pandas DataFrames.\n",
    "\n",
    "```python\n",
    "train = pd.read_csv(\"../input/titanic/train.csv\")\n",
    "test = pd.read_csv(\"../input/titanic/test.csv\")\n",
    "```\n",
    "\n",
    "## 3-Data Analysis\n",
    "\n",
    "We will analyze the data to understand its structure and the relationship between the features.\n",
    "\n",
    "```python\n",
    "train.info()\n",
    "```\n",
    "\n",
    "```python\n",
    "train.describe()\n",
    "```\n",
    "\n",
    "```python\n",
    "train.head()\n",
    "```\n",
    "\n",
    "```python\n",
    "train.isnull().sum()\n",
    "```\n",
    "\n",
    "```python\n",
    "sns.countplot(x=\"Survived\", data=train)\n",
    "```\n",
    "\n",
    "```python\n",
    "sns.countplot(x=\"Survived"
   ]
  },
  {
   "cell_type": "markdown",
   "metadata": {},
   "source": []
  }
 ],
 "metadata": {
  "language_info": {
   "name": "python"
  }
 },
 "nbformat": 4,
 "nbformat_minor": 2
}
