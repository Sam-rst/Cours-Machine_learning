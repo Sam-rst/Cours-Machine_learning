{
 "cells": [
  {
   "cell_type": "markdown",
   "id": "f67a288d-56b7-4043-8da9-255297791a45",
   "metadata": {},
   "source": [
    "# Beach VS Mountain"
   ]
  },
  {
   "cell_type": "markdown",
   "id": "c164f319-2b2d-4171-8e5d-445f59c4a61f",
   "metadata": {},
   "source": [
    "## Imports"
   ]
  },
  {
   "cell_type": "code",
   "execution_count": 1,
   "id": "b858f564-a9c3-44a5-a533-19fd9bb83a09",
   "metadata": {},
   "outputs": [],
   "source": [
    "import pandas as pd"
   ]
  },
  {
   "cell_type": "code",
   "execution_count": 2,
   "id": "ffad0c26-1d5f-4b96-9e55-138588c7ed11",
   "metadata": {},
   "outputs": [],
   "source": [
    "df = pd.read_csv(\"data/csv/mountains_vs_beaches_preferences.csv\")"
   ]
  },
  {
   "cell_type": "code",
   "execution_count": 78,
   "id": "4e400255-8c3d-48d1-8578-7a814a7b72e8",
   "metadata": {},
   "outputs": [
    {
     "data": {
      "text/html": [
       "<div>\n",
       "<style scoped>\n",
       "    .dataframe tbody tr th:only-of-type {\n",
       "        vertical-align: middle;\n",
       "    }\n",
       "\n",
       "    .dataframe tbody tr th {\n",
       "        vertical-align: top;\n",
       "    }\n",
       "\n",
       "    .dataframe thead th {\n",
       "        text-align: right;\n",
       "    }\n",
       "</style>\n",
       "<table border=\"1\" class=\"dataframe\">\n",
       "  <thead>\n",
       "    <tr style=\"text-align: right;\">\n",
       "      <th></th>\n",
       "      <th>Age</th>\n",
       "      <th>Gender</th>\n",
       "      <th>Income</th>\n",
       "      <th>Education_Level</th>\n",
       "      <th>Travel_Frequency</th>\n",
       "      <th>Preferred_Activities</th>\n",
       "      <th>Vacation_Budget</th>\n",
       "      <th>Location</th>\n",
       "      <th>Proximity_to_Mountains</th>\n",
       "      <th>Proximity_to_Beaches</th>\n",
       "      <th>Favorite_Season</th>\n",
       "      <th>Pets</th>\n",
       "      <th>Environmental_Concerns</th>\n",
       "      <th>Preference</th>\n",
       "    </tr>\n",
       "  </thead>\n",
       "  <tbody>\n",
       "    <tr>\n",
       "      <th>0</th>\n",
       "      <td>56</td>\n",
       "      <td>male</td>\n",
       "      <td>71477</td>\n",
       "      <td>bachelor</td>\n",
       "      <td>9</td>\n",
       "      <td>skiing</td>\n",
       "      <td>2477</td>\n",
       "      <td>urban</td>\n",
       "      <td>175</td>\n",
       "      <td>267</td>\n",
       "      <td>summer</td>\n",
       "      <td>0</td>\n",
       "      <td>1</td>\n",
       "      <td>1</td>\n",
       "    </tr>\n",
       "    <tr>\n",
       "      <th>1</th>\n",
       "      <td>69</td>\n",
       "      <td>male</td>\n",
       "      <td>88740</td>\n",
       "      <td>master</td>\n",
       "      <td>1</td>\n",
       "      <td>swimming</td>\n",
       "      <td>4777</td>\n",
       "      <td>suburban</td>\n",
       "      <td>228</td>\n",
       "      <td>190</td>\n",
       "      <td>fall</td>\n",
       "      <td>0</td>\n",
       "      <td>1</td>\n",
       "      <td>0</td>\n",
       "    </tr>\n",
       "    <tr>\n",
       "      <th>2</th>\n",
       "      <td>46</td>\n",
       "      <td>female</td>\n",
       "      <td>46562</td>\n",
       "      <td>master</td>\n",
       "      <td>0</td>\n",
       "      <td>skiing</td>\n",
       "      <td>1469</td>\n",
       "      <td>urban</td>\n",
       "      <td>71</td>\n",
       "      <td>280</td>\n",
       "      <td>winter</td>\n",
       "      <td>0</td>\n",
       "      <td>0</td>\n",
       "      <td>1</td>\n",
       "    </tr>\n",
       "    <tr>\n",
       "      <th>3</th>\n",
       "      <td>32</td>\n",
       "      <td>non-binary</td>\n",
       "      <td>99044</td>\n",
       "      <td>high school</td>\n",
       "      <td>6</td>\n",
       "      <td>hiking</td>\n",
       "      <td>1482</td>\n",
       "      <td>rural</td>\n",
       "      <td>31</td>\n",
       "      <td>255</td>\n",
       "      <td>summer</td>\n",
       "      <td>1</td>\n",
       "      <td>0</td>\n",
       "      <td>1</td>\n",
       "    </tr>\n",
       "    <tr>\n",
       "      <th>4</th>\n",
       "      <td>60</td>\n",
       "      <td>female</td>\n",
       "      <td>106583</td>\n",
       "      <td>high school</td>\n",
       "      <td>5</td>\n",
       "      <td>sunbathing</td>\n",
       "      <td>516</td>\n",
       "      <td>suburban</td>\n",
       "      <td>23</td>\n",
       "      <td>151</td>\n",
       "      <td>winter</td>\n",
       "      <td>1</td>\n",
       "      <td>1</td>\n",
       "      <td>0</td>\n",
       "    </tr>\n",
       "    <tr>\n",
       "      <th>...</th>\n",
       "      <td>...</td>\n",
       "      <td>...</td>\n",
       "      <td>...</td>\n",
       "      <td>...</td>\n",
       "      <td>...</td>\n",
       "      <td>...</td>\n",
       "      <td>...</td>\n",
       "      <td>...</td>\n",
       "      <td>...</td>\n",
       "      <td>...</td>\n",
       "      <td>...</td>\n",
       "      <td>...</td>\n",
       "      <td>...</td>\n",
       "      <td>...</td>\n",
       "    </tr>\n",
       "    <tr>\n",
       "      <th>52439</th>\n",
       "      <td>67</td>\n",
       "      <td>female</td>\n",
       "      <td>85325</td>\n",
       "      <td>master</td>\n",
       "      <td>3</td>\n",
       "      <td>hiking</td>\n",
       "      <td>1762</td>\n",
       "      <td>suburban</td>\n",
       "      <td>51</td>\n",
       "      <td>262</td>\n",
       "      <td>fall</td>\n",
       "      <td>1</td>\n",
       "      <td>0</td>\n",
       "      <td>1</td>\n",
       "    </tr>\n",
       "    <tr>\n",
       "      <th>52440</th>\n",
       "      <td>37</td>\n",
       "      <td>female</td>\n",
       "      <td>110346</td>\n",
       "      <td>bachelor</td>\n",
       "      <td>7</td>\n",
       "      <td>swimming</td>\n",
       "      <td>1676</td>\n",
       "      <td>urban</td>\n",
       "      <td>259</td>\n",
       "      <td>84</td>\n",
       "      <td>spring</td>\n",
       "      <td>1</td>\n",
       "      <td>0</td>\n",
       "      <td>0</td>\n",
       "    </tr>\n",
       "    <tr>\n",
       "      <th>52441</th>\n",
       "      <td>53</td>\n",
       "      <td>non-binary</td>\n",
       "      <td>71080</td>\n",
       "      <td>doctorate</td>\n",
       "      <td>7</td>\n",
       "      <td>swimming</td>\n",
       "      <td>3877</td>\n",
       "      <td>urban</td>\n",
       "      <td>164</td>\n",
       "      <td>27</td>\n",
       "      <td>fall</td>\n",
       "      <td>0</td>\n",
       "      <td>1</td>\n",
       "      <td>0</td>\n",
       "    </tr>\n",
       "    <tr>\n",
       "      <th>52442</th>\n",
       "      <td>40</td>\n",
       "      <td>female</td>\n",
       "      <td>75174</td>\n",
       "      <td>doctorate</td>\n",
       "      <td>9</td>\n",
       "      <td>swimming</td>\n",
       "      <td>4620</td>\n",
       "      <td>suburban</td>\n",
       "      <td>173</td>\n",
       "      <td>10</td>\n",
       "      <td>summer</td>\n",
       "      <td>0</td>\n",
       "      <td>1</td>\n",
       "      <td>0</td>\n",
       "    </tr>\n",
       "    <tr>\n",
       "      <th>52443</th>\n",
       "      <td>33</td>\n",
       "      <td>non-binary</td>\n",
       "      <td>34475</td>\n",
       "      <td>master</td>\n",
       "      <td>6</td>\n",
       "      <td>hiking</td>\n",
       "      <td>928</td>\n",
       "      <td>suburban</td>\n",
       "      <td>218</td>\n",
       "      <td>166</td>\n",
       "      <td>spring</td>\n",
       "      <td>1</td>\n",
       "      <td>0</td>\n",
       "      <td>0</td>\n",
       "    </tr>\n",
       "  </tbody>\n",
       "</table>\n",
       "<p>52444 rows × 14 columns</p>\n",
       "</div>"
      ],
      "text/plain": [
       "       Age      Gender  Income Education_Level  Travel_Frequency  \\\n",
       "0       56        male   71477        bachelor                 9   \n",
       "1       69        male   88740          master                 1   \n",
       "2       46      female   46562          master                 0   \n",
       "3       32  non-binary   99044     high school                 6   \n",
       "4       60      female  106583     high school                 5   \n",
       "...    ...         ...     ...             ...               ...   \n",
       "52439   67      female   85325          master                 3   \n",
       "52440   37      female  110346        bachelor                 7   \n",
       "52441   53  non-binary   71080       doctorate                 7   \n",
       "52442   40      female   75174       doctorate                 9   \n",
       "52443   33  non-binary   34475          master                 6   \n",
       "\n",
       "      Preferred_Activities  Vacation_Budget  Location  Proximity_to_Mountains  \\\n",
       "0                   skiing             2477     urban                     175   \n",
       "1                 swimming             4777  suburban                     228   \n",
       "2                   skiing             1469     urban                      71   \n",
       "3                   hiking             1482     rural                      31   \n",
       "4               sunbathing              516  suburban                      23   \n",
       "...                    ...              ...       ...                     ...   \n",
       "52439               hiking             1762  suburban                      51   \n",
       "52440             swimming             1676     urban                     259   \n",
       "52441             swimming             3877     urban                     164   \n",
       "52442             swimming             4620  suburban                     173   \n",
       "52443               hiking              928  suburban                     218   \n",
       "\n",
       "       Proximity_to_Beaches Favorite_Season  Pets  Environmental_Concerns  \\\n",
       "0                       267          summer     0                       1   \n",
       "1                       190            fall     0                       1   \n",
       "2                       280          winter     0                       0   \n",
       "3                       255          summer     1                       0   \n",
       "4                       151          winter     1                       1   \n",
       "...                     ...             ...   ...                     ...   \n",
       "52439                   262            fall     1                       0   \n",
       "52440                    84          spring     1                       0   \n",
       "52441                    27            fall     0                       1   \n",
       "52442                    10          summer     0                       1   \n",
       "52443                   166          spring     1                       0   \n",
       "\n",
       "       Preference  \n",
       "0               1  \n",
       "1               0  \n",
       "2               1  \n",
       "3               1  \n",
       "4               0  \n",
       "...           ...  \n",
       "52439           1  \n",
       "52440           0  \n",
       "52441           0  \n",
       "52442           0  \n",
       "52443           0  \n",
       "\n",
       "[52444 rows x 14 columns]"
      ]
     },
     "execution_count": 78,
     "metadata": {},
     "output_type": "execute_result"
    }
   ],
   "source": [
    "df"
   ]
  },
  {
   "cell_type": "markdown",
   "id": "60ad2adc-6395-48a2-bed6-d729eedd250c",
   "metadata": {},
   "source": [
    "## Functions"
   ]
  },
  {
   "cell_type": "code",
   "execution_count": 84,
   "id": "1762c385-13da-4f9b-bed3-995e18023691",
   "metadata": {},
   "outputs": [],
   "source": [
    "def transform_list_to_dict(list):\n",
    "    res = {}\n",
    "    for i in range(len(list)):\n",
    "        res[list[i]] = i\n",
    "    return res"
   ]
  },
  {
   "cell_type": "markdown",
   "id": "a456478d-8a41-4247-89f1-c3362ec617b6",
   "metadata": {},
   "source": [
    "## Get all types of data"
   ]
  },
  {
   "cell_type": "markdown",
   "id": "b3feb0ed-7d27-46c7-adc2-d1ff69187651",
   "metadata": {},
   "source": [
    "### Type : Genders"
   ]
  },
  {
   "cell_type": "code",
   "execution_count": 89,
   "id": "9a889111-237a-4cc7-95a4-d5fa3b354ed9",
   "metadata": {},
   "outputs": [
    {
     "name": "stdout",
     "output_type": "stream",
     "text": [
      "{'male': 0, 'female': 1, 'non-binary': 2}\n"
     ]
    }
   ],
   "source": [
    "types_genders = transform_list_to_dict(df.Gender.unique())\n",
    "print(types_genders)"
   ]
  },
  {
   "cell_type": "markdown",
   "id": "d8e0a571-bc89-41be-b2d4-fa69469a230c",
   "metadata": {},
   "source": [
    "### Type : Education_level"
   ]
  },
  {
   "cell_type": "code",
   "execution_count": 90,
   "id": "cee05161-bde6-4b87-82eb-e917a46a5480",
   "metadata": {},
   "outputs": [
    {
     "name": "stdout",
     "output_type": "stream",
     "text": [
      "{'bachelor': 0, 'master': 1, 'high school': 2, 'doctorate': 3}\n"
     ]
    }
   ],
   "source": [
    "types_education_level = transform_list_to_dict(df.Education_Level.unique())\n",
    "print(types_education_level)"
   ]
  },
  {
   "cell_type": "markdown",
   "id": "84858637-1308-40bb-8a31-9c1d5865819a",
   "metadata": {},
   "source": [
    "### Type : Travel_frequency"
   ]
  },
  {
   "cell_type": "code",
   "execution_count": 94,
   "id": "637c84c0-0d7a-4a95-a939-5badcaed24e8",
   "metadata": {},
   "outputs": [
    {
     "name": "stdout",
     "output_type": "stream",
     "text": [
      "{np.int64(9): 0, np.int64(1): 1, np.int64(0): 2, np.int64(6): 3, np.int64(5): 4, np.int64(3): 5, np.int64(8): 6, np.int64(4): 7, np.int64(7): 8, np.int64(2): 9}\n"
     ]
    }
   ],
   "source": [
    "types_travel_frequency = transform_list_to_dict(df.Travel_Frequency.unique())\n",
    "print(types_travel_frequency)"
   ]
  },
  {
   "cell_type": "markdown",
   "id": "8c398b6d-a33e-44b6-9e1d-2d351f0d2755",
   "metadata": {},
   "source": [
    "### Type : Location"
   ]
  },
  {
   "cell_type": "code",
   "execution_count": 95,
   "id": "e6a0b97d-1293-4f0a-9bc1-9568740ac981",
   "metadata": {},
   "outputs": [
    {
     "name": "stdout",
     "output_type": "stream",
     "text": [
      "{'urban': 0, 'suburban': 1, 'rural': 2}\n"
     ]
    }
   ],
   "source": [
    "types_locations = transform_list_to_dict(df.Location.unique())\n",
    "print(types_locations)"
   ]
  },
  {
   "cell_type": "markdown",
   "id": "c9efd8b4-c4f6-490b-809a-2e8f4123f0bc",
   "metadata": {},
   "source": [
    "### Type : Preferred_Activities"
   ]
  },
  {
   "cell_type": "code",
   "execution_count": 97,
   "id": "621e13e9-87cb-4eec-8c5f-a47065270a82",
   "metadata": {},
   "outputs": [
    {
     "name": "stdout",
     "output_type": "stream",
     "text": [
      "{'skiing': 0, 'swimming': 1, 'hiking': 2, 'sunbathing': 3}\n"
     ]
    }
   ],
   "source": [
    "types_preferred_activities = transform_list_to_dict(df.Preferred_Activities.unique())\n",
    "print(types_preferred_activities)"
   ]
  },
  {
   "cell_type": "markdown",
   "id": "274adbb3-c063-4800-b478-83a26549f98e",
   "metadata": {},
   "source": [
    "### Type : Seasons"
   ]
  },
  {
   "cell_type": "code",
   "execution_count": 99,
   "id": "d7aaba18-4374-4082-ac87-98a3e93f0a6a",
   "metadata": {},
   "outputs": [
    {
     "name": "stdout",
     "output_type": "stream",
     "text": [
      "{'summer': 0, 'fall': 1, 'winter': 2, 'spring': 3}\n"
     ]
    }
   ],
   "source": [
    "types_favorite_season = transform_list_to_dict(df.Favorite_Season.unique())\n",
    "print(types_favorite_season)"
   ]
  },
  {
   "cell_type": "markdown",
   "id": "0f63501c-629e-44ee-b3e1-d858d8e33d09",
   "metadata": {},
   "source": [
    "## Get all min and max of data"
   ]
  },
  {
   "cell_type": "markdown",
   "id": "2cdf4171-855e-4662-bdb5-2f9889a532e8",
   "metadata": {},
   "source": [
    "### Min / Max : Age"
   ]
  },
  {
   "cell_type": "code",
   "execution_count": 47,
   "id": "f6857943-36f0-4db2-b165-53ef1dc3fedf",
   "metadata": {},
   "outputs": [
    {
     "name": "stdout",
     "output_type": "stream",
     "text": [
      "(np.int64(18), np.int64(69))\n"
     ]
    }
   ],
   "source": [
    "min_max_age = (df.Age.min(), df.Age.max())\n",
    "print(min_max_age)"
   ]
  },
  {
   "cell_type": "markdown",
   "id": "930c5409-4e93-486b-823e-23c6d6cb44a5",
   "metadata": {},
   "source": [
    "### Min / Max : Income"
   ]
  },
  {
   "cell_type": "code",
   "execution_count": 50,
   "id": "11328e21-202d-41e4-b919-7e7ded5d3904",
   "metadata": {},
   "outputs": [
    {
     "name": "stdout",
     "output_type": "stream",
     "text": [
      "(np.int64(20001), np.int64(119999))\n"
     ]
    }
   ],
   "source": [
    "min_max_incomes = (df.Income.min(), df.Income.max())\n",
    "print(min_max_incomes)"
   ]
  },
  {
   "cell_type": "markdown",
   "id": "df07a1dc-5a05-49ae-9fca-8d183befc1b2",
   "metadata": {},
   "source": [
    "### Min / Max : Vacation_Budget"
   ]
  },
  {
   "cell_type": "code",
   "execution_count": 51,
   "id": "c0ef3a7f-97c0-4e49-8645-def67e49c51c",
   "metadata": {},
   "outputs": [
    {
     "name": "stdout",
     "output_type": "stream",
     "text": [
      "(np.int64(500), np.int64(4999))\n"
     ]
    }
   ],
   "source": [
    "min_max_vacation_budgets = (df.Vacation_Budget.min(), df.Vacation_Budget.max())\n",
    "print(min_max_vacation_budgets)"
   ]
  },
  {
   "cell_type": "markdown",
   "id": "baead96e-d40c-45cf-8997-ed620deadbae",
   "metadata": {},
   "source": [
    "## Let's make ML about it"
   ]
  },
  {
   "cell_type": "code",
   "execution_count": 54,
   "id": "79498c31-3152-42c4-a42d-17238d16f4a7",
   "metadata": {},
   "outputs": [],
   "source": [
    "from sklearn.ensemble import RandomForestClassifier\n",
    "from sklearn.model_selection import train_test_split\n",
    "from sklearn.metrics import accuracy_score, classification_report, confusion_matrix"
   ]
  },
  {
   "cell_type": "markdown",
   "id": "2f2710f5-47e3-4089-8700-63630ed099f4",
   "metadata": {},
   "source": [
    "### X : data & Y : labels\n",
    "\n"
   ]
  },
  {
   "cell_type": "code",
   "execution_count": 107,
   "id": "4b736a4f-55f4-4108-a65a-8e86973036af",
   "metadata": {},
   "outputs": [
    {
     "name": "stdout",
     "output_type": "stream",
     "text": [
      "Data : [56, 71477, 0, 2477]\n",
      " Label : 1\n"
     ]
    }
   ],
   "source": [
    "doc = {\n",
    "    \"data\": [],\n",
    "    \"label\": [],\n",
    "    \"description\": \"\"\"\n",
    "        data : \n",
    "            [\n",
    "                [Age,\n",
    "                Income,\n",
    "                Favorite_Season,\n",
    "                Vacation_Budget\n",
    "                ]\n",
    "            ]\n",
    "        label : [Preference (0 : Beach, 1 : Montain]\"\"\",    \n",
    "}\n",
    "\n",
    "for index, row in df.iterrows():\n",
    "    doc[\"data\"].append(\n",
    "        [\n",
    "            row.Age,\n",
    "            row.Income,\n",
    "            types_favorite_season[row.Favorite_Season],\n",
    "            row.Vacation_Budget,\n",
    "        ]\n",
    "    )\n",
    "\n",
    "    doc[\"label\"].append(row.Preference)\n",
    "\n",
    "print(f\"Data : {doc[\"data\"][0]}\\n Label : {doc[\"label\"][0]}\")"
   ]
  },
  {
   "cell_type": "markdown",
   "id": "234e9f6e-2ed2-4b1f-9dab-8365ee8a7cb0",
   "metadata": {},
   "source": [
    "### Séparer le jeu de donnée en jeu de données de test"
   ]
  },
  {
   "cell_type": "code",
   "execution_count": 101,
   "id": "dd5c85be-dc4d-47e2-be0a-55d4eabf3276",
   "metadata": {},
   "outputs": [],
   "source": [
    "x_train, x_test, y_train, y_test = train_test_split(doc[\"data\"], doc[\"label\"], test_size=0.2)"
   ]
  },
  {
   "cell_type": "markdown",
   "id": "f25b603c-2368-4b87-977d-b4c9843b2d70",
   "metadata": {},
   "source": [
    "### Create the Random Forest"
   ]
  },
  {
   "cell_type": "code",
   "execution_count": 102,
   "id": "4ad123bb-6f25-440e-af34-0b7b3b2f7520",
   "metadata": {},
   "outputs": [],
   "source": [
    "rfc = RandomForestClassifier()"
   ]
  },
  {
   "cell_type": "code",
   "execution_count": 103,
   "id": "752c977c-64db-481f-bd2a-5192a29931f0",
   "metadata": {},
   "outputs": [
    {
     "data": {
      "text/html": [
       "<style>#sk-container-id-2 {\n",
       "  /* Definition of color scheme common for light and dark mode */\n",
       "  --sklearn-color-text: #000;\n",
       "  --sklearn-color-text-muted: #666;\n",
       "  --sklearn-color-line: gray;\n",
       "  /* Definition of color scheme for unfitted estimators */\n",
       "  --sklearn-color-unfitted-level-0: #fff5e6;\n",
       "  --sklearn-color-unfitted-level-1: #f6e4d2;\n",
       "  --sklearn-color-unfitted-level-2: #ffe0b3;\n",
       "  --sklearn-color-unfitted-level-3: chocolate;\n",
       "  /* Definition of color scheme for fitted estimators */\n",
       "  --sklearn-color-fitted-level-0: #f0f8ff;\n",
       "  --sklearn-color-fitted-level-1: #d4ebff;\n",
       "  --sklearn-color-fitted-level-2: #b3dbfd;\n",
       "  --sklearn-color-fitted-level-3: cornflowerblue;\n",
       "\n",
       "  /* Specific color for light theme */\n",
       "  --sklearn-color-text-on-default-background: var(--sg-text-color, var(--theme-code-foreground, var(--jp-content-font-color1, black)));\n",
       "  --sklearn-color-background: var(--sg-background-color, var(--theme-background, var(--jp-layout-color0, white)));\n",
       "  --sklearn-color-border-box: var(--sg-text-color, var(--theme-code-foreground, var(--jp-content-font-color1, black)));\n",
       "  --sklearn-color-icon: #696969;\n",
       "\n",
       "  @media (prefers-color-scheme: dark) {\n",
       "    /* Redefinition of color scheme for dark theme */\n",
       "    --sklearn-color-text-on-default-background: var(--sg-text-color, var(--theme-code-foreground, var(--jp-content-font-color1, white)));\n",
       "    --sklearn-color-background: var(--sg-background-color, var(--theme-background, var(--jp-layout-color0, #111)));\n",
       "    --sklearn-color-border-box: var(--sg-text-color, var(--theme-code-foreground, var(--jp-content-font-color1, white)));\n",
       "    --sklearn-color-icon: #878787;\n",
       "  }\n",
       "}\n",
       "\n",
       "#sk-container-id-2 {\n",
       "  color: var(--sklearn-color-text);\n",
       "}\n",
       "\n",
       "#sk-container-id-2 pre {\n",
       "  padding: 0;\n",
       "}\n",
       "\n",
       "#sk-container-id-2 input.sk-hidden--visually {\n",
       "  border: 0;\n",
       "  clip: rect(1px 1px 1px 1px);\n",
       "  clip: rect(1px, 1px, 1px, 1px);\n",
       "  height: 1px;\n",
       "  margin: -1px;\n",
       "  overflow: hidden;\n",
       "  padding: 0;\n",
       "  position: absolute;\n",
       "  width: 1px;\n",
       "}\n",
       "\n",
       "#sk-container-id-2 div.sk-dashed-wrapped {\n",
       "  border: 1px dashed var(--sklearn-color-line);\n",
       "  margin: 0 0.4em 0.5em 0.4em;\n",
       "  box-sizing: border-box;\n",
       "  padding-bottom: 0.4em;\n",
       "  background-color: var(--sklearn-color-background);\n",
       "}\n",
       "\n",
       "#sk-container-id-2 div.sk-container {\n",
       "  /* jupyter's `normalize.less` sets `[hidden] { display: none; }`\n",
       "     but bootstrap.min.css set `[hidden] { display: none !important; }`\n",
       "     so we also need the `!important` here to be able to override the\n",
       "     default hidden behavior on the sphinx rendered scikit-learn.org.\n",
       "     See: https://github.com/scikit-learn/scikit-learn/issues/21755 */\n",
       "  display: inline-block !important;\n",
       "  position: relative;\n",
       "}\n",
       "\n",
       "#sk-container-id-2 div.sk-text-repr-fallback {\n",
       "  display: none;\n",
       "}\n",
       "\n",
       "div.sk-parallel-item,\n",
       "div.sk-serial,\n",
       "div.sk-item {\n",
       "  /* draw centered vertical line to link estimators */\n",
       "  background-image: linear-gradient(var(--sklearn-color-text-on-default-background), var(--sklearn-color-text-on-default-background));\n",
       "  background-size: 2px 100%;\n",
       "  background-repeat: no-repeat;\n",
       "  background-position: center center;\n",
       "}\n",
       "\n",
       "/* Parallel-specific style estimator block */\n",
       "\n",
       "#sk-container-id-2 div.sk-parallel-item::after {\n",
       "  content: \"\";\n",
       "  width: 100%;\n",
       "  border-bottom: 2px solid var(--sklearn-color-text-on-default-background);\n",
       "  flex-grow: 1;\n",
       "}\n",
       "\n",
       "#sk-container-id-2 div.sk-parallel {\n",
       "  display: flex;\n",
       "  align-items: stretch;\n",
       "  justify-content: center;\n",
       "  background-color: var(--sklearn-color-background);\n",
       "  position: relative;\n",
       "}\n",
       "\n",
       "#sk-container-id-2 div.sk-parallel-item {\n",
       "  display: flex;\n",
       "  flex-direction: column;\n",
       "}\n",
       "\n",
       "#sk-container-id-2 div.sk-parallel-item:first-child::after {\n",
       "  align-self: flex-end;\n",
       "  width: 50%;\n",
       "}\n",
       "\n",
       "#sk-container-id-2 div.sk-parallel-item:last-child::after {\n",
       "  align-self: flex-start;\n",
       "  width: 50%;\n",
       "}\n",
       "\n",
       "#sk-container-id-2 div.sk-parallel-item:only-child::after {\n",
       "  width: 0;\n",
       "}\n",
       "\n",
       "/* Serial-specific style estimator block */\n",
       "\n",
       "#sk-container-id-2 div.sk-serial {\n",
       "  display: flex;\n",
       "  flex-direction: column;\n",
       "  align-items: center;\n",
       "  background-color: var(--sklearn-color-background);\n",
       "  padding-right: 1em;\n",
       "  padding-left: 1em;\n",
       "}\n",
       "\n",
       "\n",
       "/* Toggleable style: style used for estimator/Pipeline/ColumnTransformer box that is\n",
       "clickable and can be expanded/collapsed.\n",
       "- Pipeline and ColumnTransformer use this feature and define the default style\n",
       "- Estimators will overwrite some part of the style using the `sk-estimator` class\n",
       "*/\n",
       "\n",
       "/* Pipeline and ColumnTransformer style (default) */\n",
       "\n",
       "#sk-container-id-2 div.sk-toggleable {\n",
       "  /* Default theme specific background. It is overwritten whether we have a\n",
       "  specific estimator or a Pipeline/ColumnTransformer */\n",
       "  background-color: var(--sklearn-color-background);\n",
       "}\n",
       "\n",
       "/* Toggleable label */\n",
       "#sk-container-id-2 label.sk-toggleable__label {\n",
       "  cursor: pointer;\n",
       "  display: flex;\n",
       "  width: 100%;\n",
       "  margin-bottom: 0;\n",
       "  padding: 0.5em;\n",
       "  box-sizing: border-box;\n",
       "  text-align: center;\n",
       "  align-items: start;\n",
       "  justify-content: space-between;\n",
       "  gap: 0.5em;\n",
       "}\n",
       "\n",
       "#sk-container-id-2 label.sk-toggleable__label .caption {\n",
       "  font-size: 0.6rem;\n",
       "  font-weight: lighter;\n",
       "  color: var(--sklearn-color-text-muted);\n",
       "}\n",
       "\n",
       "#sk-container-id-2 label.sk-toggleable__label-arrow:before {\n",
       "  /* Arrow on the left of the label */\n",
       "  content: \"▸\";\n",
       "  float: left;\n",
       "  margin-right: 0.25em;\n",
       "  color: var(--sklearn-color-icon);\n",
       "}\n",
       "\n",
       "#sk-container-id-2 label.sk-toggleable__label-arrow:hover:before {\n",
       "  color: var(--sklearn-color-text);\n",
       "}\n",
       "\n",
       "/* Toggleable content - dropdown */\n",
       "\n",
       "#sk-container-id-2 div.sk-toggleable__content {\n",
       "  max-height: 0;\n",
       "  max-width: 0;\n",
       "  overflow: hidden;\n",
       "  text-align: left;\n",
       "  /* unfitted */\n",
       "  background-color: var(--sklearn-color-unfitted-level-0);\n",
       "}\n",
       "\n",
       "#sk-container-id-2 div.sk-toggleable__content.fitted {\n",
       "  /* fitted */\n",
       "  background-color: var(--sklearn-color-fitted-level-0);\n",
       "}\n",
       "\n",
       "#sk-container-id-2 div.sk-toggleable__content pre {\n",
       "  margin: 0.2em;\n",
       "  border-radius: 0.25em;\n",
       "  color: var(--sklearn-color-text);\n",
       "  /* unfitted */\n",
       "  background-color: var(--sklearn-color-unfitted-level-0);\n",
       "}\n",
       "\n",
       "#sk-container-id-2 div.sk-toggleable__content.fitted pre {\n",
       "  /* unfitted */\n",
       "  background-color: var(--sklearn-color-fitted-level-0);\n",
       "}\n",
       "\n",
       "#sk-container-id-2 input.sk-toggleable__control:checked~div.sk-toggleable__content {\n",
       "  /* Expand drop-down */\n",
       "  max-height: 200px;\n",
       "  max-width: 100%;\n",
       "  overflow: auto;\n",
       "}\n",
       "\n",
       "#sk-container-id-2 input.sk-toggleable__control:checked~label.sk-toggleable__label-arrow:before {\n",
       "  content: \"▾\";\n",
       "}\n",
       "\n",
       "/* Pipeline/ColumnTransformer-specific style */\n",
       "\n",
       "#sk-container-id-2 div.sk-label input.sk-toggleable__control:checked~label.sk-toggleable__label {\n",
       "  color: var(--sklearn-color-text);\n",
       "  background-color: var(--sklearn-color-unfitted-level-2);\n",
       "}\n",
       "\n",
       "#sk-container-id-2 div.sk-label.fitted input.sk-toggleable__control:checked~label.sk-toggleable__label {\n",
       "  background-color: var(--sklearn-color-fitted-level-2);\n",
       "}\n",
       "\n",
       "/* Estimator-specific style */\n",
       "\n",
       "/* Colorize estimator box */\n",
       "#sk-container-id-2 div.sk-estimator input.sk-toggleable__control:checked~label.sk-toggleable__label {\n",
       "  /* unfitted */\n",
       "  background-color: var(--sklearn-color-unfitted-level-2);\n",
       "}\n",
       "\n",
       "#sk-container-id-2 div.sk-estimator.fitted input.sk-toggleable__control:checked~label.sk-toggleable__label {\n",
       "  /* fitted */\n",
       "  background-color: var(--sklearn-color-fitted-level-2);\n",
       "}\n",
       "\n",
       "#sk-container-id-2 div.sk-label label.sk-toggleable__label,\n",
       "#sk-container-id-2 div.sk-label label {\n",
       "  /* The background is the default theme color */\n",
       "  color: var(--sklearn-color-text-on-default-background);\n",
       "}\n",
       "\n",
       "/* On hover, darken the color of the background */\n",
       "#sk-container-id-2 div.sk-label:hover label.sk-toggleable__label {\n",
       "  color: var(--sklearn-color-text);\n",
       "  background-color: var(--sklearn-color-unfitted-level-2);\n",
       "}\n",
       "\n",
       "/* Label box, darken color on hover, fitted */\n",
       "#sk-container-id-2 div.sk-label.fitted:hover label.sk-toggleable__label.fitted {\n",
       "  color: var(--sklearn-color-text);\n",
       "  background-color: var(--sklearn-color-fitted-level-2);\n",
       "}\n",
       "\n",
       "/* Estimator label */\n",
       "\n",
       "#sk-container-id-2 div.sk-label label {\n",
       "  font-family: monospace;\n",
       "  font-weight: bold;\n",
       "  display: inline-block;\n",
       "  line-height: 1.2em;\n",
       "}\n",
       "\n",
       "#sk-container-id-2 div.sk-label-container {\n",
       "  text-align: center;\n",
       "}\n",
       "\n",
       "/* Estimator-specific */\n",
       "#sk-container-id-2 div.sk-estimator {\n",
       "  font-family: monospace;\n",
       "  border: 1px dotted var(--sklearn-color-border-box);\n",
       "  border-radius: 0.25em;\n",
       "  box-sizing: border-box;\n",
       "  margin-bottom: 0.5em;\n",
       "  /* unfitted */\n",
       "  background-color: var(--sklearn-color-unfitted-level-0);\n",
       "}\n",
       "\n",
       "#sk-container-id-2 div.sk-estimator.fitted {\n",
       "  /* fitted */\n",
       "  background-color: var(--sklearn-color-fitted-level-0);\n",
       "}\n",
       "\n",
       "/* on hover */\n",
       "#sk-container-id-2 div.sk-estimator:hover {\n",
       "  /* unfitted */\n",
       "  background-color: var(--sklearn-color-unfitted-level-2);\n",
       "}\n",
       "\n",
       "#sk-container-id-2 div.sk-estimator.fitted:hover {\n",
       "  /* fitted */\n",
       "  background-color: var(--sklearn-color-fitted-level-2);\n",
       "}\n",
       "\n",
       "/* Specification for estimator info (e.g. \"i\" and \"?\") */\n",
       "\n",
       "/* Common style for \"i\" and \"?\" */\n",
       "\n",
       ".sk-estimator-doc-link,\n",
       "a:link.sk-estimator-doc-link,\n",
       "a:visited.sk-estimator-doc-link {\n",
       "  float: right;\n",
       "  font-size: smaller;\n",
       "  line-height: 1em;\n",
       "  font-family: monospace;\n",
       "  background-color: var(--sklearn-color-background);\n",
       "  border-radius: 1em;\n",
       "  height: 1em;\n",
       "  width: 1em;\n",
       "  text-decoration: none !important;\n",
       "  margin-left: 0.5em;\n",
       "  text-align: center;\n",
       "  /* unfitted */\n",
       "  border: var(--sklearn-color-unfitted-level-1) 1pt solid;\n",
       "  color: var(--sklearn-color-unfitted-level-1);\n",
       "}\n",
       "\n",
       ".sk-estimator-doc-link.fitted,\n",
       "a:link.sk-estimator-doc-link.fitted,\n",
       "a:visited.sk-estimator-doc-link.fitted {\n",
       "  /* fitted */\n",
       "  border: var(--sklearn-color-fitted-level-1) 1pt solid;\n",
       "  color: var(--sklearn-color-fitted-level-1);\n",
       "}\n",
       "\n",
       "/* On hover */\n",
       "div.sk-estimator:hover .sk-estimator-doc-link:hover,\n",
       ".sk-estimator-doc-link:hover,\n",
       "div.sk-label-container:hover .sk-estimator-doc-link:hover,\n",
       ".sk-estimator-doc-link:hover {\n",
       "  /* unfitted */\n",
       "  background-color: var(--sklearn-color-unfitted-level-3);\n",
       "  color: var(--sklearn-color-background);\n",
       "  text-decoration: none;\n",
       "}\n",
       "\n",
       "div.sk-estimator.fitted:hover .sk-estimator-doc-link.fitted:hover,\n",
       ".sk-estimator-doc-link.fitted:hover,\n",
       "div.sk-label-container:hover .sk-estimator-doc-link.fitted:hover,\n",
       ".sk-estimator-doc-link.fitted:hover {\n",
       "  /* fitted */\n",
       "  background-color: var(--sklearn-color-fitted-level-3);\n",
       "  color: var(--sklearn-color-background);\n",
       "  text-decoration: none;\n",
       "}\n",
       "\n",
       "/* Span, style for the box shown on hovering the info icon */\n",
       ".sk-estimator-doc-link span {\n",
       "  display: none;\n",
       "  z-index: 9999;\n",
       "  position: relative;\n",
       "  font-weight: normal;\n",
       "  right: .2ex;\n",
       "  padding: .5ex;\n",
       "  margin: .5ex;\n",
       "  width: min-content;\n",
       "  min-width: 20ex;\n",
       "  max-width: 50ex;\n",
       "  color: var(--sklearn-color-text);\n",
       "  box-shadow: 2pt 2pt 4pt #999;\n",
       "  /* unfitted */\n",
       "  background: var(--sklearn-color-unfitted-level-0);\n",
       "  border: .5pt solid var(--sklearn-color-unfitted-level-3);\n",
       "}\n",
       "\n",
       ".sk-estimator-doc-link.fitted span {\n",
       "  /* fitted */\n",
       "  background: var(--sklearn-color-fitted-level-0);\n",
       "  border: var(--sklearn-color-fitted-level-3);\n",
       "}\n",
       "\n",
       ".sk-estimator-doc-link:hover span {\n",
       "  display: block;\n",
       "}\n",
       "\n",
       "/* \"?\"-specific style due to the `<a>` HTML tag */\n",
       "\n",
       "#sk-container-id-2 a.estimator_doc_link {\n",
       "  float: right;\n",
       "  font-size: 1rem;\n",
       "  line-height: 1em;\n",
       "  font-family: monospace;\n",
       "  background-color: var(--sklearn-color-background);\n",
       "  border-radius: 1rem;\n",
       "  height: 1rem;\n",
       "  width: 1rem;\n",
       "  text-decoration: none;\n",
       "  /* unfitted */\n",
       "  color: var(--sklearn-color-unfitted-level-1);\n",
       "  border: var(--sklearn-color-unfitted-level-1) 1pt solid;\n",
       "}\n",
       "\n",
       "#sk-container-id-2 a.estimator_doc_link.fitted {\n",
       "  /* fitted */\n",
       "  border: var(--sklearn-color-fitted-level-1) 1pt solid;\n",
       "  color: var(--sklearn-color-fitted-level-1);\n",
       "}\n",
       "\n",
       "/* On hover */\n",
       "#sk-container-id-2 a.estimator_doc_link:hover {\n",
       "  /* unfitted */\n",
       "  background-color: var(--sklearn-color-unfitted-level-3);\n",
       "  color: var(--sklearn-color-background);\n",
       "  text-decoration: none;\n",
       "}\n",
       "\n",
       "#sk-container-id-2 a.estimator_doc_link.fitted:hover {\n",
       "  /* fitted */\n",
       "  background-color: var(--sklearn-color-fitted-level-3);\n",
       "}\n",
       "</style><div id=\"sk-container-id-2\" class=\"sk-top-container\"><div class=\"sk-text-repr-fallback\"><pre>RandomForestClassifier()</pre><b>In a Jupyter environment, please rerun this cell to show the HTML representation or trust the notebook. <br />On GitHub, the HTML representation is unable to render, please try loading this page with nbviewer.org.</b></div><div class=\"sk-container\" hidden><div class=\"sk-item\"><div class=\"sk-estimator fitted sk-toggleable\"><input class=\"sk-toggleable__control sk-hidden--visually\" id=\"sk-estimator-id-2\" type=\"checkbox\" checked><label for=\"sk-estimator-id-2\" class=\"sk-toggleable__label fitted sk-toggleable__label-arrow\"><div><div>RandomForestClassifier</div></div><div><a class=\"sk-estimator-doc-link fitted\" rel=\"noreferrer\" target=\"_blank\" href=\"https://scikit-learn.org/1.6/modules/generated/sklearn.ensemble.RandomForestClassifier.html\">?<span>Documentation for RandomForestClassifier</span></a><span class=\"sk-estimator-doc-link fitted\">i<span>Fitted</span></span></div></label><div class=\"sk-toggleable__content fitted\"><pre>RandomForestClassifier()</pre></div> </div></div></div></div>"
      ],
      "text/plain": [
       "RandomForestClassifier()"
      ]
     },
     "execution_count": 103,
     "metadata": {},
     "output_type": "execute_result"
    }
   ],
   "source": [
    "rfc.fit(x_train, y_train)"
   ]
  },
  {
   "cell_type": "markdown",
   "id": "a6e5af62-aa23-4901-b7b4-7e8ede34d305",
   "metadata": {},
   "source": [
    "### Make the prediction"
   ]
  },
  {
   "cell_type": "code",
   "execution_count": 104,
   "id": "6eb06c02-e886-42a7-901f-f46f716be453",
   "metadata": {},
   "outputs": [],
   "source": [
    "ypred = rfc.predict(x_test)"
   ]
  },
  {
   "cell_type": "code",
   "execution_count": 105,
   "id": "ddef1453-fb38-4422-bb51-ab3419f9d994",
   "metadata": {},
   "outputs": [
    {
     "data": {
      "text/plain": [
       "array([[7519, 2510],\n",
       "       [ 354,  106]])"
      ]
     },
     "execution_count": 105,
     "metadata": {},
     "output_type": "execute_result"
    }
   ],
   "source": [
    "confusion_matrix(ypred, y_test)"
   ]
  },
  {
   "cell_type": "code",
   "execution_count": 106,
   "id": "edd1334a-fdb1-4c6f-89a7-1e97653350ac",
   "metadata": {},
   "outputs": [
    {
     "name": "stdout",
     "output_type": "stream",
     "text": [
      "              precision    recall  f1-score   support\n",
      "\n",
      "           0       0.96      0.75      0.84     10029\n",
      "           1       0.04      0.23      0.07       460\n",
      "\n",
      "    accuracy                           0.73     10489\n",
      "   macro avg       0.50      0.49      0.45     10489\n",
      "weighted avg       0.91      0.73      0.81     10489\n",
      "\n"
     ]
    }
   ],
   "source": [
    "print(classification_report(ypred, y_test))"
   ]
  },
  {
   "cell_type": "code",
   "execution_count": null,
   "id": "ba9ac20b-c90f-44ce-b6d3-47470550a6ad",
   "metadata": {},
   "outputs": [],
   "source": []
  }
 ],
 "metadata": {
  "kernelspec": {
   "display_name": "Python 3 (ipykernel)",
   "language": "python",
   "name": "python3"
  },
  "language_info": {
   "codemirror_mode": {
    "name": "ipython",
    "version": 3
   },
   "file_extension": ".py",
   "mimetype": "text/x-python",
   "name": "python",
   "nbconvert_exporter": "python",
   "pygments_lexer": "ipython3",
   "version": "3.13.0"
  }
 },
 "nbformat": 4,
 "nbformat_minor": 5
}
